{
 "cells": [
  {
   "cell_type": "code",
   "execution_count": 1,
   "metadata": {},
   "outputs": [],
   "source": [
    "from __future__ import division\n",
    "import matplotlib.pyplot as plt\n",
    "import time\n",
    "from classes import mlp, prepare_data\n",
    "from IPython.display import display"
   ]
  },
  {
   "cell_type": "code",
   "execution_count": 2,
   "metadata": {},
   "outputs": [
    {
     "name": "stdout",
     "output_type": "stream",
     "text": [
      "All data size: (1604, 4)\n"
     ]
    }
   ],
   "source": [
    "file_path = 'C:\\\\marko\\\\jupyter\\\\Statoil-Iceberg-Classifier-Challenge\\\\data\\\\processed\\\\train.json'''\n",
    "prep = prepare_data.prepareData(path_json_file=file_path, ratio=[0.9, 0.05, 0.05])"
   ]
  },
  {
   "cell_type": "code",
   "execution_count": 3,
   "metadata": {},
   "outputs": [
    {
     "name": "stdout",
     "output_type": "stream",
     "text": [
      "Size of the whole dataset for training:: (1471, 364)\n",
      "Split: 1323 73 73\n",
      "X_train: (1323, 362)\n",
      "y_train: (1323, 2)\n",
      "X_validate: (73, 362)\n",
      "y_validate: (73, 2)\n",
      "X_test: (75, 362)\n",
      "y_test: (75, 2)\n"
     ]
    }
   ],
   "source": [
    "prep.exclude_missing_inc_angle()\n",
    "prep.normalize_inc_angle()\n",
    "prep.prepare_columns(cutoff=3)\n",
    "\n",
    "X_train_avg, y_train_avg, X_validate_avg, y_validate_avg, X_test_avg, y_test_avg = prep.prepare_sets()"
   ]
  },
  {
   "cell_type": "code",
   "execution_count": 4,
   "metadata": {},
   "outputs": [],
   "source": [
    "number_of_epochs = 300\n",
    "number_of_neurons_in_hidden = 32\n",
    "beta = 3\n",
    "learning_rate = 0.2"
   ]
  },
  {
   "cell_type": "code",
   "execution_count": 5,
   "metadata": {},
   "outputs": [
    {
     "data": {
      "text/plain": [
       "'epoch: 300 test_error: 0.029101967270475218 validation_error: 0.273029252254063 '"
      ]
     },
     "metadata": {},
     "output_type": "display_data"
    },
    {
     "data": {
      "image/png": "[encoded data removed]",
      "text/plain": [
       "<Figure size 432x288 with 1 Axes>"
      ]
     },
     "metadata": {},
     "output_type": "display_data"
    },
    {
     "name": "stdout",
     "output_type": "stream",
     "text": [
      "Seconds used for training: 74.7730\n",
      "Match coefficient: 0.64\n",
      "[[15.  2.]\n",
      " [25. 33.]]\n",
      "Number of input neurons: 362\n",
      "Number of neurons in 1st hidden layer: 32\n",
      "Number of output neurons: 2\n"
     ]
    }
   ],
   "source": [
    "X = X_train_avg\n",
    "target = y_train_avg\n",
    "X_validate = X_validate_avg\n",
    "y_validate = y_validate_avg\n",
    "X_test = X_test_avg\n",
    "y_test = y_test_avg\n",
    "\n",
    "number_of_neurons_in_input = X.shape[1]\n",
    "number_of_targets = target.shape[1]\n",
    "\n",
    "net = mlp.MLP(number_of_neurons_in_input, number_of_neurons_in_hidden, number_of_targets, beta=beta, learning_rate=learning_rate)\n",
    "\n",
    "t0 = time.time()\n",
    "net.early_stopping(X, target, X_validate, y_validate, number_of_epochs)\n",
    "t1 = time.time()\n",
    "total_time = t1-t0\n",
    "print(\"Seconds used for training: %0.4f\" % total_time)\n",
    "\n",
    "net.confusion(X_test, y_test)\n",
    "\n",
    "net.print_network_architecture()"
   ]
  },
  {
   "cell_type": "code",
   "execution_count": null,
   "metadata": {},
   "outputs": [],
   "source": []
  }
 ],
 "metadata": {
  "kernelspec": {
   "display_name": "Python 3",
   "language": "python",
   "name": "python3"
  },
  "language_info": {
   "codemirror_mode": {
    "name": "ipython",
    "version": 3
   },
   "file_extension": ".py",
   "mimetype": "text/x-python",
   "name": "python",
   "nbconvert_exporter": "python",
   "pygments_lexer": "ipython3",
   "version": "3.5.5"
  }
 },
 "nbformat": 4,
 "nbformat_minor": 2
}
