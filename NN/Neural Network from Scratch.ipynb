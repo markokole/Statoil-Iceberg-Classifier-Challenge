{
 "cells": [
  {
   "cell_type": "code",
   "execution_count": 1,
   "metadata": {},
   "outputs": [],
   "source": [
    "import pandas as pd\n",
    "from __future__ import division\n",
    "import numpy as np\n",
    "import math\n",
    "import json\n",
    "import matplotlib.pyplot as plt\n",
    "\n",
    "from IPython.display import display, clear_output"
   ]
  },
  {
   "cell_type": "markdown",
   "metadata": {},
   "source": [
    "## Column `inc_angle` has value `na` in some rows (around 12% of data) and those rows are excluded"
   ]
  },
  {
   "cell_type": "code",
   "execution_count": 2,
   "metadata": {},
   "outputs": [],
   "source": [
    "data = pd.read_json(path_or_buf='../data/processed/train.json')[[\"band_1\", \"band_2\", \"inc_angle\", \"is_iceberg\"]]\n",
    "data = data[data.inc_angle != \"na\"]"
   ]
  },
  {
   "cell_type": "markdown",
   "metadata": {},
   "source": [
    "## Normalize column `inc_angle` in  [−1,1]"
   ]
  },
  {
   "cell_type": "code",
   "execution_count": 3,
   "metadata": {},
   "outputs": [],
   "source": [
    "data[\"inc_angle\"] = (2*((data[\"inc_angle\"] - min(data[\"inc_angle\"]))/ (max(data[\"inc_angle\"] - min(data[\"inc_angle\"]))))-1)"
   ]
  },
  {
   "cell_type": "markdown",
   "metadata": {},
   "source": [
    "## Shuffle data"
   ]
  },
  {
   "cell_type": "code",
   "execution_count": 4,
   "metadata": {},
   "outputs": [],
   "source": [
    "data = data.sample(frac=1).reset_index(drop=True)"
   ]
  },
  {
   "cell_type": "code",
   "execution_count": 5,
   "metadata": {},
   "outputs": [
    {
     "data": {
      "text/html": [
       "<div>\n",
       "<style scoped>\n",
       "    .dataframe tbody tr th:only-of-type {\n",
       "        vertical-align: middle;\n",
       "    }\n",
       "\n",
       "    .dataframe tbody tr th {\n",
       "        vertical-align: top;\n",
       "    }\n",
       "\n",
       "    .dataframe thead th {\n",
       "        text-align: right;\n",
       "    }\n",
       "</style>\n",
       "<table border=\"1\" class=\"dataframe\">\n",
       "  <thead>\n",
       "    <tr style=\"text-align: right;\">\n",
       "      <th></th>\n",
       "      <th>band_1</th>\n",
       "      <th>band_2</th>\n",
       "      <th>inc_angle</th>\n",
       "      <th>is_iceberg</th>\n",
       "    </tr>\n",
       "  </thead>\n",
       "  <tbody>\n",
       "    <tr>\n",
       "      <th>0</th>\n",
       "      <td>[-18.570885, -19.974842, -14.835552, -15.62969...</td>\n",
       "      <td>[-26.14922, -24.989338, -25.265064, -28.243801...</td>\n",
       "      <td>0.80946</td>\n",
       "      <td>0</td>\n",
       "    </tr>\n",
       "    <tr>\n",
       "      <th>1</th>\n",
       "      <td>[-14.815742, -13.03135, -14.015712, -13.476949...</td>\n",
       "      <td>[-21.802437, -21.306036, -20.247314, -25.07262...</td>\n",
       "      <td>-0.082628</td>\n",
       "      <td>1</td>\n",
       "    </tr>\n",
       "    <tr>\n",
       "      <th>2</th>\n",
       "      <td>[-21.652689, -20.363588, -21.14669, -18.98209,...</td>\n",
       "      <td>[-24.750729, -28.397591, -28.783756, -26.38430...</td>\n",
       "      <td>0.265851</td>\n",
       "      <td>0</td>\n",
       "    </tr>\n",
       "    <tr>\n",
       "      <th>3</th>\n",
       "      <td>[-19.872192, -19.733278, -23.464474, -22.46505...</td>\n",
       "      <td>[-23.898735, -25.617088, -28.871698, -31.63781...</td>\n",
       "      <td>0.182614</td>\n",
       "      <td>1</td>\n",
       "    </tr>\n",
       "    <tr>\n",
       "      <th>4</th>\n",
       "      <td>[-21.789352, -24.349995, -20.583527, -19.81440...</td>\n",
       "      <td>[-29.210711, -27.627132, -28.38295, -29.21085,...</td>\n",
       "      <td>0.683452</td>\n",
       "      <td>1</td>\n",
       "    </tr>\n",
       "  </tbody>\n",
       "</table>\n",
       "</div>"
      ],
      "text/plain": [
       "                                              band_1  \\\n",
       "0  [-18.570885, -19.974842, -14.835552, -15.62969...   \n",
       "1  [-14.815742, -13.03135, -14.015712, -13.476949...   \n",
       "2  [-21.652689, -20.363588, -21.14669, -18.98209,...   \n",
       "3  [-19.872192, -19.733278, -23.464474, -22.46505...   \n",
       "4  [-21.789352, -24.349995, -20.583527, -19.81440...   \n",
       "\n",
       "                                              band_2 inc_angle  is_iceberg  \n",
       "0  [-26.14922, -24.989338, -25.265064, -28.243801...   0.80946           0  \n",
       "1  [-21.802437, -21.306036, -20.247314, -25.07262... -0.082628           1  \n",
       "2  [-24.750729, -28.397591, -28.783756, -26.38430...  0.265851           0  \n",
       "3  [-23.898735, -25.617088, -28.871698, -31.63781...  0.182614           1  \n",
       "4  [-29.210711, -27.627132, -28.38295, -29.21085,...  0.683452           1  "
      ]
     },
     "execution_count": 5,
     "metadata": {},
     "output_type": "execute_result"
    }
   ],
   "source": [
    "data.head(5)"
   ]
  },
  {
   "cell_type": "markdown",
   "metadata": {},
   "source": [
    "## Convert array with actual values - `y` - to a binary matrix"
   ]
  },
  {
   "cell_type": "code",
   "execution_count": 6,
   "metadata": {},
   "outputs": [],
   "source": [
    "def array_to_matrix(a):\n",
    "    mtrx = np.zeros((len(a),2))\n",
    "    for x in range(0,2):\n",
    "        indices = np.where(np.array(a).reshape(-1,1)[:,0]==x)\n",
    "        mtrx[indices, x] = 1\n",
    "    return(mtrx)"
   ]
  },
  {
   "cell_type": "code",
   "execution_count": 7,
   "metadata": {},
   "outputs": [],
   "source": [
    "x_band_1 = np.array(data[\"band_1\"].tolist())\n",
    "x_band_2 = np.array(data[\"band_2\"].tolist())\n",
    "x_inc_angle = np.array(data[\"inc_angle\"].tolist()).reshape(-1,1)\n",
    "y_is_iceberg = array_to_matrix(np.array(data[\"is_iceberg\"].tolist()).reshape(-1,1))"
   ]
  },
  {
   "cell_type": "markdown",
   "metadata": {},
   "source": [
    "## Normalize arrays `band_1` and `band_2` in  [−1,1], create array with average band values"
   ]
  },
  {
   "cell_type": "code",
   "execution_count": 8,
   "metadata": {},
   "outputs": [],
   "source": [
    "x_band_1_norm = 2*((x_band_1 - np.min(x_band_1)) / (np.max(x_band_1) - np.min(x_band_1)))-1\n",
    "x_band_2_norm = 2*((x_band_2 - np.min(x_band_2)) / (np.max(x_band_2) - np.min(x_band_2)))-1\n",
    "x_band_avg = np.add(x_band_1_norm, x_band_2_norm)/2"
   ]
  },
  {
   "cell_type": "markdown",
   "metadata": {},
   "source": [
    "## Create the `whole_dataset_avg` matrix by stacking `x_inc_angle`, `x_band_avg` and `y_is_iceberg` arrays and do sanity check (print the shape of matrix)"
   ]
  },
  {
   "cell_type": "code",
   "execution_count": 9,
   "metadata": {},
   "outputs": [
    {
     "name": "stdout",
     "output_type": "stream",
     "text": [
      "whole_dataset_avg shape: (1471, 5628)\n"
     ]
    }
   ],
   "source": [
    "whole_dataset_avg = np.hstack((x_inc_angle, x_band_avg, y_is_iceberg))\n",
    "print(\"whole_dataset_avg shape:\", whole_dataset_avg.shape)"
   ]
  },
  {
   "cell_type": "markdown",
   "metadata": {},
   "source": [
    "## Create the `whole_dataset_band_1` matrix by stacking `x_inc_angle`, `x_band_band_1` and `y_is_iceberg` arrays and do sanity check (print the shape of matrix)"
   ]
  },
  {
   "cell_type": "code",
   "execution_count": 10,
   "metadata": {},
   "outputs": [
    {
     "name": "stdout",
     "output_type": "stream",
     "text": [
      "whole_dataset_band_1 shape: (1471, 5628)\n"
     ]
    }
   ],
   "source": [
    "whole_dataset_band_1 = np.hstack((x_inc_angle, x_band_1_norm, y_is_iceberg))\n",
    "print(\"whole_dataset_band_1 shape:\", whole_dataset_band_1.shape)"
   ]
  },
  {
   "cell_type": "markdown",
   "metadata": {},
   "source": [
    "## Prepare train, validate and test sets"
   ]
  },
  {
   "cell_type": "code",
   "execution_count": 11,
   "metadata": {},
   "outputs": [],
   "source": [
    "def prepare_sets(whole_dataset, ratio=[0.8, 0.1, 0.1]):\n",
    "    \n",
    "    max_num_train = int(len(whole_dataset)*ratio[0])\n",
    "    max_num_validate = int(len(whole_dataset)*ratio[1])\n",
    "    max_num_test = int(len(whole_dataset)*ratio[2])\n",
    "    print(\"Split:\", max_num_train, max_num_validate, max_num_test)\n",
    "\n",
    "    X_train = whole_dataset[:max_num_train, :-2]\n",
    "    y_train = whole_dataset[:max_num_train, -2:]\n",
    "    X_validate = whole_dataset[max_num_train : max_num_train+max_num_validate, :-2]\n",
    "    y_validate = whole_dataset[max_num_train : max_num_train+max_num_validate, -2:]\n",
    "    X_test = whole_dataset[max_num_train+max_num_validate:, :-2]\n",
    "    y_test = whole_dataset[max_num_train+max_num_validate:, -2:]\n",
    "    \n",
    "    return X_train, y_train, X_validate, y_validate, X_test, y_test"
   ]
  },
  {
   "cell_type": "markdown",
   "metadata": {},
   "source": [
    "## Use the average band values"
   ]
  },
  {
   "cell_type": "code",
   "execution_count": 12,
   "metadata": {},
   "outputs": [
    {
     "name": "stdout",
     "output_type": "stream",
     "text": [
      "Split: 1323 73 73\n",
      "X_train: (1323, 5626)\n",
      "y_train: (1323, 2)\n",
      "X_validate: (73, 5626)\n",
      "y_validate: (73, 2)\n",
      "X_test: (75, 5626)\n",
      "y_test: (75, 2)\n"
     ]
    }
   ],
   "source": [
    "X_train_avg, y_train_avg, X_validate_avg, y_validate_avg, X_test_avg, y_test_avg = prepare_sets(whole_dataset=whole_dataset_avg, ratio=[0.9, 0.05, 0.05])\n",
    "print(\"X_train:\", X_train_avg.shape)\n",
    "print(\"y_train:\", y_train_avg.shape)\n",
    "print(\"X_validate:\", X_validate_avg.shape)\n",
    "print(\"y_validate:\", y_validate_avg.shape)\n",
    "print(\"X_test:\", X_test_avg.shape)\n",
    "print(\"y_test:\", y_test_avg.shape)"
   ]
  },
  {
   "cell_type": "markdown",
   "metadata": {},
   "source": [
    "## Use the band_1 values"
   ]
  },
  {
   "cell_type": "code",
   "execution_count": 13,
   "metadata": {},
   "outputs": [
    {
     "name": "stdout",
     "output_type": "stream",
     "text": [
      "Split: 1323 73 73\n",
      "X_train: (1323, 5626)\n",
      "y_train: (1323, 2)\n",
      "X_validate: (73, 5626)\n",
      "y_validate: (73, 2)\n",
      "X_test: (75, 5626)\n",
      "y_test: (75, 2)\n"
     ]
    }
   ],
   "source": [
    "X_train_band_1, y_train_band_1, X_validate_band_1, y_validate_band_1, X_test_band_1, y_test_band_1 = prepare_sets(whole_dataset=whole_dataset_band_1, ratio=[0.9, 0.05, 0.05])\n",
    "print(\"X_train:\", X_train_band_1.shape)\n",
    "print(\"y_train:\", y_train_band_1.shape)\n",
    "print(\"X_validate:\", X_validate_band_1.shape)\n",
    "print(\"y_validate:\", y_validate_band_1.shape)\n",
    "print(\"X_test:\", X_test_band_1.shape)\n",
    "print(\"y_test:\", y_test_band_1.shape)"
   ]
  },
  {
   "cell_type": "code",
   "execution_count": 14,
   "metadata": {},
   "outputs": [],
   "source": [
    "class mlp:\n",
    "    def __init__(self, n_neurons_input, n_neurons_hidden, n_targets, learning_rate=0.5, beta=1):\n",
    "        np.set_printoptions(suppress=True) #suppress scientific notation\n",
    "        self.n_neurons_input = n_neurons_input\n",
    "        self.n_targets = n_targets # number of target neurons\n",
    "        self.n_neurons_hidden = n_neurons_hidden # number of neurons in hidden layer\n",
    "\n",
    "        #intervals for picking random weights for hidden layer\n",
    "        low_hidden = -1/math.sqrt(self.n_neurons_input)\n",
    "        high_hidden = 1/math.sqrt(self.n_neurons_input)\n",
    "        self.weights_hidden = np.random.uniform(low_hidden, high_hidden, size=(self.n_neurons_input, self.n_neurons_hidden))\n",
    "\n",
    "        #intervals for picking random weights for output layer\n",
    "        low_output = -1/math.sqrt(self.n_neurons_hidden)\n",
    "        high_output = 1/math.sqrt(self.n_neurons_hidden)\n",
    "        self.weights_output =  np.random.uniform(low_output, high_output, size=(self.n_targets, self.n_neurons_hidden))\n",
    "\n",
    "        self.bias_hidden_weight = np.array([np.random.rand()] * self.n_neurons_hidden)\n",
    "        self.bias_output_weight = np.array([np.random.rand()] * self.n_targets)\n",
    "        self.learning_rate = learning_rate\n",
    "        self.beta = beta #hyperparameter used in sigmoid function\n",
    "\n",
    "        #prepare the arrays\n",
    "        self.hidden_layer_activation = np.array([0.] * self.n_neurons_hidden)\n",
    "        self.hidden_layer_activation_f_output = np.array([0.] * self.n_neurons_hidden)\n",
    "        self.hidden_layer_error = np.array([0.] * self.n_neurons_hidden)\n",
    "        self.output_layer_output = np.array([0.] * self.n_targets)\n",
    "        self.output_layer_activation = np.array([0.] * self.n_targets)\n",
    "        self.output_layer_error = np.array([0.] * self.n_targets)\n",
    "\n",
    "        self.all_total_errors = np.array([])\n",
    "        \n",
    "        self.validation_error = []\n",
    "        \n",
    "    def sigmoid(self, x, beta):\n",
    "        \"\"\"\n",
    "        Activation function (sigmoid function, continuous-log sigmond function)\n",
    "        Sigmoid is acceptable when having a classification problem\n",
    "        Inputs:\n",
    "        - x: float\n",
    "        - beta: slope parameter\n",
    "        Returns float\n",
    "        \"\"\"\n",
    "        return 1 / (1 + math.exp(-x * beta))\n",
    "    \n",
    "    def derivative_sigmoid(self, a):\n",
    "        \"\"\"\n",
    "        Calculates the derivative of sigmoid function - x*(1-x)\n",
    "        Inputs:\n",
    "        - a: array of floats\n",
    "        Returns derivative of the array\n",
    "        \"\"\"\n",
    "        return (a*(1-a))\n",
    "\n",
    "    def forward_hidden_layer(self, inputs):\n",
    "        \"\"\"\n",
    "        Calculates hidden layer activations and outputs from activation function\n",
    "        Inputs: \n",
    "        - inputs: array (row) of training data\n",
    "        Returns:\n",
    "        - hla: hidden layer activation\n",
    "        - hlafo: hidden layer with applied activation function\n",
    "        \"\"\"\n",
    "        hla = np.transpose(np.dot(np.transpose(inputs), self.weights_hidden))\n",
    "        hlafo = np.array([self.sigmoid(x, self.beta) for x in np.transpose(hla)])\n",
    "        return hla, hlafo\n",
    "\n",
    "    def forward_output_layer(self, sigmoid_from_hidden_layer):\n",
    "        \"\"\"\n",
    "        Calculate output layer based on values from the hidden layer\n",
    "        Inputs:\n",
    "        - sigmoid_from_hidden_layer: array with values after activation function has been applied\n",
    "                                     length = number of neurons in the hidden layer\n",
    "        Returns:\n",
    "        - olo: array for output from output layer\n",
    "        - ola: array for output from output layer activation\n",
    "        \"\"\"\n",
    "        n_rows = sigmoid_from_hidden_layer.shape[0]\n",
    "        olo = np.dot(sigmoid_from_hidden_layer.reshape(1,n_rows), np.transpose(self.weights_output)) + self.bias_output_weight\n",
    "        ola = np.array([self.sigmoid(x, self.beta) for x in np.transpose(olo)])\n",
    "        return olo, ola\n",
    "\n",
    "    def calculate_total_error(self, t, o):\n",
    "        \"\"\"\n",
    "        Calculate error between actual targets (t) and output targets (o)\n",
    "        Inputs:\n",
    "        - t: actual target (y) values. Array either [1, 0] or [0, 1] \n",
    "        - o: calculated values. Array of floats with length 2\n",
    "        Returns:\n",
    "        - total_error: float \n",
    "        \"\"\"\n",
    "        total_error = np.sum(1/2 * (t - o) ** 2)\n",
    "        return total_error\n",
    "\n",
    "   ################################# \n",
    "   # Functions for backpropagation #\n",
    "   #################################\n",
    "    \n",
    "    ##for every output neuron\n",
    "    def calculate_output_error(self):\n",
    "        \"\"\"\n",
    "        Calculates output error before going into backpropagation\n",
    "        \"\"\"\n",
    "        self.output_layer_error = (self.output_layer_activation - self.targets) * self.output_layer_activation * (1 - self.output_layer_activation)\n",
    "\n",
    "    \n",
    "    def backward_hidden_error(self):\n",
    "        \"\"\"\n",
    "        Calculate the error in the hidden layer\n",
    "        \"\"\"\n",
    "        #first part of the equation - the derivative of the activation function - (x*(1-x))\n",
    "        derivative_part = self.derivative_sigmoid(self.hidden_layer_activation_f_output) #self.hidden_layer_activation_f_output * (1 - self.hidden_layer_activation_f_output)\n",
    "        # second part of the equation - sum of product of weights in hidden layer and the error of the output\n",
    "        n_rows_ole = self.output_layer_error.shape[0]\n",
    "        n_rows_hla = self.hidden_layer_activation.shape[0]\n",
    "        #a matrix is returned and the diagonal has the values we are after\n",
    "        self.hidden_layer_error2 =  np.diagonal(np.transpose(derivative_part) * self.hidden_layer_activation.reshape(n_rows_hla,1) * np.transpose(self.output_layer_error.reshape(n_rows_ole,1)[0]))\n",
    "\n",
    "    def update_output_layer_weights(self):\n",
    "        \"\"\"\n",
    "        Updates weights in the output layer\n",
    "        \"\"\"\n",
    "        n_rows = self.hidden_layer_activation_f_output.shape[0]\n",
    "        self.weights_output = self.weights_output - np.transpose(self.learning_rate * self.output_layer_error * np.transpose(self.hidden_layer_activation_f_output.reshape(1,n_rows)))\n",
    "        self.bias_output_weight = self.bias_output_weight - (self.learning_rate * self.output_layer_error * 1)\n",
    "\n",
    "    def update_hidden_layer_weights(self):\n",
    "        \"\"\"\n",
    "        Updates weights in the hidden layer\n",
    "        \"\"\"\n",
    "        n_rows = self.inputs.shape[0]\n",
    "        self.weights_hidden = self.weights_hidden - (self.learning_rate * self.hidden_layer_error * np.transpose(self.inputs.reshape(1, n_rows)))\n",
    "        self.bias_hidden_weight = self.bias_hidden_weight - (self.learning_rate * self.hidden_layer_activation * 1)\n",
    "\n",
    "    ##################\n",
    "    ##train network  #\n",
    "    ################\n",
    "    def train(self, inputs, targets):\n",
    "        \"\"\"\n",
    "        Calls all methods for forward and back pass through the network\n",
    "        Inputs:\n",
    "        - inputs: array of floats - one test sample\n",
    "        - targets: array of targets - correct output value\n",
    "        \"\"\"\n",
    "        self.inputs = inputs\n",
    "        self.n_inputs = self.inputs.shape[0]\n",
    "        self.targets = targets\n",
    "\n",
    "        ## Forward pass #\n",
    "        self.hidden_layer_activation, self.hidden_layer_activation_f_output = self.forward_hidden_layer(self.inputs)\n",
    "        self.output_layer_output, self.output_layer_activation = self.forward_output_layer(self.hidden_layer_activation_f_output)\n",
    "        self.calculate_total_error(self.targets, self.output_layer_activation)\n",
    "\n",
    "        ## Backward pass #\n",
    "        self.calculate_output_error()\n",
    "        self.backward_hidden_error()\n",
    "        self.update_output_layer_weights()\n",
    "        self.update_hidden_layer_weights()\n",
    "    #end train\n",
    "\n",
    "    def train_network(self, train, target, n_epoch=10):\n",
    "        self.n_epoch = n_epoch\n",
    "        n_rows = train.shape[0]\n",
    "        for epoch in range(self.n_epoch):\n",
    "            for i in range(0, n_rows):\n",
    "                self.train(train[i], target[i])\n",
    "            print(\"epoch number:\", epoch, \", error=\",  self.calculate_total_error(self.targets, self.output_layer_activation))\n",
    "\n",
    "    def early_stopping(self, train, target, valid, valid_target, n_epoch=10):\n",
    "        self.n_epoch = n_epoch\n",
    "        n_rows = train.shape[0]\n",
    "        previous_valid_error = 100\n",
    "        message = \"\"\n",
    "        for epoch in range(self.n_epoch):\n",
    "            for i in range(0, n_rows):\n",
    "                #print(\"row\", i)\n",
    "                self.train(train[i], target[i])\n",
    "            #print(\"early stopping: self.output_layer_activation\", self.output_layer_activation.shape, target.shape)\n",
    "            #print(\"number of training rows processed:\", n_rows)\n",
    "            #print(\"VALIDATE!\")\n",
    "            test_error = self.calculate_total_error(self.targets, self.output_layer_activation)\n",
    "            valid_error = self.forward_pass_with_calculated_error(valid, valid_target)\n",
    "            self.validation_error.append(valid_error) # list for visualizing validation error\n",
    "            \n",
    "            #early break is in effect after 10% of the epochs is run\n",
    "            if (epoch > self.n_epoch/10) and (valid_error > previous_valid_error):\n",
    "            #if (valid_error > previous_valid_error):\n",
    "                message = \"STOP\"\n",
    "            previous_valid_error = valid_error\n",
    "            #print(\"epoch number:\", epoch, \", error=\", test_error, \", valid error=\", valid_error)\n",
    "\n",
    "            #print(epoch, \"\\t\", test_error, \"\\t\",valid_error, \"\\t\", message)\n",
    "            clear_output(wait=True)\n",
    "            #display('Iteration '+str(i)+' Score: '+str(uniform(0, 1)))\n",
    "            #print(\"epoch: %s test_error: %s\\tvalidation_error: %s %s\" % (epoch, test_error, valid_error, message))\n",
    "            display(\"epoch: %s test_error: %s validation_error: %s %s\" % (epoch+1, test_error, valid_error, message))\n",
    "            if message == \"STOP\":\n",
    "                break\n",
    "        \n",
    "        self.plot_validation_error(self.validation_error)\n",
    "\n",
    "    def forward_pass_with_calculated_error(self, input_set, target_set):\n",
    "        #local arrays for activation and sigmoid values\n",
    "        #hidden_layer_activation = np.array([0.] * self.n_neurons_hidden)\n",
    "        #hidden_layer_activation_f_output = np.array([0.] * self.n_neurons_hidden)\n",
    "\n",
    "        output_layer_output = np.array([0.] * self.n_targets)\n",
    "        output_layer_activation = np.array([0.] * self.n_targets)\n",
    "\n",
    "        total_error = 0\n",
    "        n_rows = input_set.shape[0]\n",
    "        for i in range(n_rows):\n",
    "            hidden_layer_activation, hidden_layer_activation_f_output = self.forward_hidden_layer(input_set[i])\n",
    "            output_layer_output, output_layer_activation = self.forward_output_layer(hidden_layer_activation_f_output)\n",
    "\n",
    "            error = self.calculate_total_error(target_set[i], output_layer_activation)\n",
    "            total_error = total_error + error\n",
    "\n",
    "        total_error = total_error/n_rows\n",
    "        return total_error\n",
    "        \n",
    "    def array_values_to_binary(self, a):\n",
    "        \"\"\"\n",
    "        Look for max float in array, assign 1 to the index and 0 to other index (array has length 2).\n",
    "        Inputs:\n",
    "        - a: array of float\n",
    "        Returns a binary array with one 0 and one 1\n",
    "        \"\"\"\n",
    "        index = np.argmax(a)\n",
    "        result = np.zeros_like(a)\n",
    "        result[index] = 1\n",
    "        return result\n",
    "\n",
    "    #method delivers final statistics on the model accuracy\n",
    "    def confusion(self, inputs, targets, threshold_value=0.5):\n",
    "        \"\"\"\n",
    "        \n",
    "        \"\"\"\n",
    "        n_rows, n_classes = targets.shape\n",
    "        percentage = 0\n",
    "\n",
    "        mtrx = np.zeros((n_classes, n_classes)) #initialize matrix\n",
    "\n",
    "        for i in range(n_rows):\n",
    "            hidden_layer_activation, hidden_layer_activation_f_output = self.forward_hidden_layer(inputs[i])\n",
    "            output_layer_output, output_layer_activation = self.forward_output_layer(hidden_layer_activation_f_output)\n",
    "            #print(\"\\nrow:\", i)\n",
    "            #print(\"output_layer_activation:\", output_layer_activation)\n",
    "            binary_output = self.array_values_to_binary(output_layer_activation)\n",
    "            #print(\"output:\", binary_output, \"target:\", targets[i])\n",
    "            #print(\"t:\", targets[i])\n",
    "\n",
    "            o_one_position = np.where(binary_output == 1)[0] #find position of 1 in array\n",
    "            t_one_position = np.where(targets[i] == 1)[0] #find position of 1 in array\n",
    "            \n",
    "            if o_one_position == t_one_position:\n",
    "                percentage = percentage + 1\n",
    "\n",
    "            #write matrix\n",
    "            mtrx[o_one_position, t_one_position] = mtrx[o_one_position, t_one_position] + 1\n",
    "\n",
    "        print(\"Match coefficient:\", round(percentage/n_rows, 4))\n",
    "        print(mtrx)\n",
    "\n",
    "    def plot_validation_error(self, validation_error):\n",
    "        plt.plot(validation_error)\n",
    "        plt.show()\n",
    "        \n",
    "##end class neural_network"
   ]
  },
  {
   "cell_type": "code",
   "execution_count": 15,
   "metadata": {},
   "outputs": [],
   "source": [
    "input_n_epoch = 300 # input(\"Type number of epochs (tested on 10, 100 and 1000): \")\n",
    "input_n_neuron = 20 # input(\"Type number of neurons in hidden layer (tested on 6, 8 and 12): \")"
   ]
  },
  {
   "cell_type": "markdown",
   "metadata": {},
   "source": [
    "### Testing with average band"
   ]
  },
  {
   "cell_type": "code",
   "execution_count": 16,
   "metadata": {},
   "outputs": [
    {
     "data": {
      "text/plain": [
       "'epoch: 300 test_error: 0.7306023024929048 validation_error: 0.25698510929905166 '"
      ]
     },
     "metadata": {},
     "output_type": "display_data"
    },
    {
     "data": {
      "image/png": "[encoded data removed]",
      "text/plain": [
       "<Figure size 432x288 with 1 Axes>"
      ]
     },
     "metadata": {},
     "output_type": "display_data"
    },
    {
     "name": "stdout",
     "output_type": "stream",
     "text": [
      "Match coefficient: 0.64\n",
      "[[16.  5.]\n",
      " [22. 32.]]\n"
     ]
    }
   ],
   "source": [
    "X = X_train_avg\n",
    "target = y_train_avg\n",
    "X_validate = X_validate_avg\n",
    "y_validate = y_validate_avg\n",
    "X_test = X_test_avg\n",
    "y_test = y_test_avg\n",
    "\n",
    "number_of_neurons_in_input = X.shape[1]\n",
    "number_of_targets = target.shape[1]\n",
    "\n",
    "number_of_neurons_in_hidden = int(input_n_neuron) #12 #should test with 6, 8, 12\n",
    "number_of_epochs = int(input_n_epoch) #1000 #10, 100, 1000\n",
    "net = mlp(number_of_neurons_in_input, number_of_neurons_in_hidden, number_of_targets, beta=3)\n",
    "\n",
    "net.early_stopping(X, target, X_validate, y_validate, number_of_epochs)\n",
    "\n",
    "net.confusion(X_test, y_test)"
   ]
  },
  {
   "cell_type": "markdown",
   "metadata": {},
   "source": [
    "### Testing with band_1"
   ]
  },
  {
   "cell_type": "code",
   "execution_count": 17,
   "metadata": {},
   "outputs": [
    {
     "data": {
      "text/plain": [
       "'epoch: 32 test_error: 0.671523741427075 validation_error: 0.28819631577400345 STOP'"
      ]
     },
     "metadata": {},
     "output_type": "display_data"
    },
    {
     "data": {
      "image/png": "[encoded data removed]",
      "text/plain": [
       "<Figure size 432x288 with 1 Axes>"
      ]
     },
     "metadata": {},
     "output_type": "display_data"
    },
    {
     "name": "stdout",
     "output_type": "stream",
     "text": [
      "Match coefficient: 0.64\n",
      "[[18.  7.]\n",
      " [20. 30.]]\n"
     ]
    }
   ],
   "source": [
    "X = X_train_band_1\n",
    "target = y_train_band_1\n",
    "X_validate = X_validate_band_1\n",
    "y_validate = y_validate_band_1\n",
    "X_test = X_test_band_1\n",
    "y_test = y_test_band_1\n",
    "\n",
    "number_of_neurons_in_input = X.shape[1]\n",
    "number_of_targets = target.shape[1]\n",
    "\n",
    "number_of_neurons_in_hidden = int(input_n_neuron) #12 #should test with 6, 8, 12\n",
    "number_of_epochs = int(input_n_epoch) #1000 #10, 100, 1000\n",
    "net = mlp(number_of_neurons_in_input, number_of_neurons_in_hidden, number_of_targets, beta=3)\n",
    "\n",
    "net.early_stopping(X, target, X_validate, y_validate, number_of_epochs)\n",
    "\n",
    "net.confusion(X_test, y_test)"
   ]
  },
  {
   "cell_type": "code",
   "execution_count": null,
   "metadata": {},
   "outputs": [],
   "source": []
  }
 ],
 "metadata": {
  "kernelspec": {
   "display_name": "Python 3",
   "language": "python",
   "name": "python3"
  },
  "language_info": {
   "codemirror_mode": {
    "name": "ipython",
    "version": 3
   },
   "file_extension": ".py",
   "mimetype": "text/x-python",
   "name": "python",
   "nbconvert_exporter": "python",
   "pygments_lexer": "ipython3",
   "version": "3.5.5"
  }
 },
 "nbformat": 4,
 "nbformat_minor": 2
}
